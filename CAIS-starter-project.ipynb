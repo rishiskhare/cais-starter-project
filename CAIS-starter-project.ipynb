{
 "cells": [
  {
   "cell_type": "markdown",
   "id": "f0b95f78",
   "metadata": {},
   "source": [
    "# CAIS Starter Project"
   ]
  },
  {
   "cell_type": "markdown",
   "id": "9b61eea7",
   "metadata": {},
   "source": [
    "### Description: For a given LLM in hugging face let's say Deberta-v3, I want to be able to get the gradient per input token. If you want example inputs to feed in use https://github.com/hendrycks/ethics that dataset."
   ]
  },
  {
   "cell_type": "markdown",
   "id": "29cceb23",
   "metadata": {},
   "source": [
    "Steven Basart Notes: Trained model found on GitHub (.pt file contains RoBERTa weights)\n",
    "- From the loss, obtain the gradient of the loss with respect to each input token\n",
    "- You can use (1, 0) or (1, -1) as utility scores for data\n",
    "- GitHub model was trained on RoBERTa"
   ]
  },
  {
   "cell_type": "code",
   "execution_count": 49,
   "id": "11475854",
   "metadata": {},
   "outputs": [],
   "source": [
    "import torch\n",
    "from transformers import AutoTokenizer, AutoModelForSequenceClassification\n"
   ]
  },
  {
   "cell_type": "code",
   "execution_count": 50,
   "id": "671d39d9",
   "metadata": {},
   "outputs": [
    {
     "name": "stderr",
     "output_type": "stream",
     "text": [
      "/Users/rishikhare/anaconda3/lib/python3.10/site-packages/transformers/convert_slow_tokenizer.py:564: UserWarning: The sentencepiece tokenizer that you are converting to a fast tokenizer uses the byte fallback option which is not implemented in the fast tokenizers. In practice this means that the fast version of the tokenizer can produce unknown tokens whereas the sentencepiece version would have converted these unknown tokens into a sequence of byte tokens matching the original piece of text.\n",
      "  warnings.warn(\n",
      "Some weights of DebertaV2ForSequenceClassification were not initialized from the model checkpoint at microsoft/deberta-v3-base and are newly initialized: ['classifier.bias', 'classifier.weight', 'pooler.dense.bias', 'pooler.dense.weight']\n",
      "You should probably TRAIN this model on a down-stream task to be able to use it for predictions and inference.\n"
     ]
    }
   ],
   "source": [
    "checkpoint = \"microsoft/deberta-v3-base\"\n",
    "tokenizer = AutoTokenizer.from_pretrained(checkpoint)\n",
    "model = AutoModelForSequenceClassification.from_pretrained(checkpoint, num_labels=2)"
   ]
  },
  {
   "cell_type": "code",
   "execution_count": 51,
   "id": "23c6ceb3",
   "metadata": {},
   "outputs": [],
   "source": [
    "model.train()\n",
    "device = torch.device(\"cuda\" if torch.cuda.is_available() else \"cpu\")\n",
    "model.to(device)\n",
    "\n",
    "for param in model.parameters():\n",
    "    param.requires_grad = True"
   ]
  },
  {
   "cell_type": "code",
   "execution_count": 52,
   "id": "ccf91ac5",
   "metadata": {},
   "outputs": [],
   "source": [
    "prompt = \"I fed my neighbor's dog the expired meat.\"\n",
    "label = torch.tensor([1])\n"
   ]
  },
  {
   "cell_type": "code",
   "execution_count": 53,
   "id": "99bc04cf",
   "metadata": {},
   "outputs": [
    {
     "name": "stderr",
     "output_type": "stream",
     "text": [
      "Asking to truncate to max_length but no maximum length is provided and the model has no predefined maximum length. Default to no truncation.\n"
     ]
    }
   ],
   "source": [
    "inputs = tokenizer(prompt, padding=True, truncation=True, return_tensors=\"pt\")\n",
    "inputs_embeds = model.deberta.embeddings.word_embeddings(inputs[\"input_ids\"])\n",
    "inputs_embeds.requires_grad_()\n",
    "inputs_embeds.retain_grad()"
   ]
  },
  {
   "cell_type": "code",
   "execution_count": 54,
   "id": "5c11437a",
   "metadata": {},
   "outputs": [],
   "source": [
    "outputs = model(\n",
    "    inputs_embeds=inputs_embeds,\n",
    "    attention_mask=inputs[\"attention_mask\"],\n",
    "    labels=label,\n",
    ")\n",
    "logits = outputs.logits"
   ]
  },
  {
   "cell_type": "code",
   "execution_count": 55,
   "id": "9dd9e98a",
   "metadata": {},
   "outputs": [],
   "source": [
    "loss_fn = torch.nn.CrossEntropyLoss()\n",
    "loss = loss_fn(logits, label)"
   ]
  },
  {
   "cell_type": "code",
   "execution_count": 56,
   "id": "e2b65c08",
   "metadata": {},
   "outputs": [
    {
     "name": "stdout",
     "output_type": "stream",
     "text": [
      "token: [CLS], gradient: 0.01911306008696556\n",
      "token: ▁I, gradient: 0.005149811506271362\n",
      "token: ▁fed, gradient: 0.009411280043423176\n",
      "token: ▁my, gradient: 0.004841497167944908\n",
      "token: ▁neighbor, gradient: 0.009824398905038834\n",
      "token: ', gradient: 0.004140863195061684\n",
      "token: s, gradient: 0.006523393094539642\n",
      "token: ▁dog, gradient: 0.011430288664996624\n",
      "token: ▁the, gradient: 0.008304985240101814\n",
      "token: ▁expired, gradient: 0.01959693618118763\n",
      "token: ▁meat, gradient: 0.015879929065704346\n",
      "token: ., gradient: 0.006367374677211046\n",
      "token: [SEP], gradient: 0.014575622044503689\n"
     ]
    }
   ],
   "source": [
    "model.zero_grad()\n",
    "loss.backward()\n",
    "grads = inputs_embeds.grad[0]\n",
    "token_grad_norms = grads.norm(dim=-1)\n",
    "tokens = tokenizer.convert_ids_to_tokens(inputs[\"input_ids\"][0])\n",
    "for token, grad_norm in zip(tokens, token_grad_norms):\n",
    "    print(f\"token: {token}, gradient: {grad_norm}\")"
   ]
  },
  {
   "cell_type": "code",
   "execution_count": null,
   "id": "ae709731",
   "metadata": {},
   "outputs": [],
   "source": []
  }
 ],
 "metadata": {
  "kernelspec": {
   "display_name": "base",
   "language": "python",
   "name": "python3"
  },
  "language_info": {
   "codemirror_mode": {
    "name": "ipython",
    "version": 3
   },
   "file_extension": ".py",
   "mimetype": "text/x-python",
   "name": "python",
   "nbconvert_exporter": "python",
   "pygments_lexer": "ipython3",
   "version": "3.10.11"
  }
 },
 "nbformat": 4,
 "nbformat_minor": 5
}
